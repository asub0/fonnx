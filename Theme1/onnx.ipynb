{
 "cells": [
  {
   "cell_type": "code",
   "execution_count": null,
   "metadata": {},
   "outputs": [],
   "source": [
    "!pip install openpyxl"
   ]
  },
  {
   "cell_type": "code",
   "execution_count": null,
   "metadata": {},
   "outputs": [],
   "source": [
    "import pandas as pd\n",
    "\n",
    "# Load the Excel file\n",
    "file_path = 'interopSurvey.xlsx'\n",
    "df = pd.read_excel(file_path)\n",
    "\n",
    "# Inspect the first few rows of the DataFrame to understand its structure\n",
    "df.head()\n"
   ]
  },
  {
   "cell_type": "code",
   "execution_count": null,
   "metadata": {},
   "outputs": [],
   "source": [
    "# Total number of rows where the first two columns include yes\n",
    "yes_rows = df[df['Q52'].str.contains('yes', case=False, na=False) & df['Q71'].str.contains('yes', case=False, na=False)]\n",
    "print(f\"Total number of rows where the first two columns include yes: {len(yes_rows)}\")"
   ]
  },
  {
   "cell_type": "code",
   "execution_count": null,
   "metadata": {},
   "outputs": [],
   "source": [
    "# check how many rows are not null in column 21\n",
    "df[df.columns[21]].notnull().sum()\n"
   ]
  },
  {
   "cell_type": "code",
   "execution_count": null,
   "metadata": {},
   "outputs": [],
   "source": [
    "# Columns T to AE in Excel correspond to indices 19 to 30 in Python (0-based indexing)\n",
    "columns_of_interest = df.columns[19:31]  # Select columns T to AE\n",
    "\n",
    "# Count the number of rows where columns T to AE are not all 'n/a'\n",
    "# We will treat both 'n/a' and NaN as equivalent for this purpose\n",
    "count_non_na_rows = df[columns_of_interest].replace('n/a', pd.NA).dropna(how='all').shape[0]\n",
    "\n",
    "count_non_na_rows\n"
   ]
  },
  {
   "cell_type": "code",
   "execution_count": null,
   "metadata": {},
   "outputs": [],
   "source": [
    "# Columns T to AE in Excel correspond to indices 19 to 30 in Python (0-based indexing)\n",
    "columns_of_interest = df.columns[20:31]  # Select columns T to AE\n",
    "\n",
    "# Count the number of rows where columns T to AE are not all 'n/a'\n",
    "# We will treat both 'n/a' and NaN as equivalent for this purpose\n",
    "count_non_na_rows = df[columns_of_interest].replace('n/a', pd.NA).dropna(how='all').shape[0]\n",
    "\n",
    "count_non_na_rows\n"
   ]
  },
  {
   "cell_type": "code",
   "execution_count": null,
   "metadata": {},
   "outputs": [],
   "source": [
    "# Columns T to AE in Excel correspond to indices 19 to 30 in Python (0-based indexing)\n",
    "columns_of_interest = df.columns[19:31]  # Select columns T to AE\n",
    "\n",
    "# Count the number of rows where columns T to AE are not all 'n/a'\n",
    "# We will treat both 'n/a' and NaN as equivalent for this purpose\n",
    "count_non_na_rows = df[columns_of_interest].replace('n/a', pd.NA).dropna(how='all').shape[0]\n",
    "\n",
    "count_non_na_rows\n",
    "\n",
    "\n",
    "# Remove the rows where columns_of_interest are all null values and save this in a new Excel file\n",
    "df = df[~df[columns_of_interest].replace('n/a', pd.NA).isnull().all(axis=1)]\n",
    "\n",
    "output_file_path = 'interopSurvey.xlsx'\n",
    "df.to_excel(output_file_path, index=False)\n",
    "\n",
    "print(f\"Output saved to: {output_file_path}\")\n",
    "\n"
   ]
  },
  {
   "cell_type": "code",
   "execution_count": null,
   "metadata": {},
   "outputs": [],
   "source": [
    "# Open interopSurvey.xlsx\n",
    "df = pd.read_excel('interopSurvey.xlsx')\n",
    "\n",
    "# For each column, count the number of rows for each unique value. This is like a sets of unique values in each column and their counts\n",
    "unique_values = {col: df[col].value_counts() for col in df.columns}\n"
   ]
  },
  {
   "cell_type": "code",
   "execution_count": null,
   "metadata": {},
   "outputs": [],
   "source": [
    "# count the categories in Q67. Some of them has this format \"category1, category2, category3\"\n",
    "# We will split them and count the number of each category\n",
    "categories = df['Q67'].str.split(',').explode().str.strip().value_counts()\n",
    "\n",
    "categories\n",
    "\n"
   ]
  },
  {
   "cell_type": "code",
   "execution_count": null,
   "metadata": {},
   "outputs": [],
   "source": []
  },
  {
   "cell_type": "code",
   "execution_count": null,
   "metadata": {},
   "outputs": [],
   "source": [
    "# Count how many df['Q65'] are not null\n",
    "Q65_sum = df['Q65'].notnull().sum()\n",
    "print(f\"Total number of non-null values in column Q65: {Q65_sum}\")\n",
    "\n",
    "# Define a placeholder that does not appear in your data\n",
    "placeholder = \"eg\"\n",
    "\n",
    "# Replace 'e.g.,' with the placeholder, split, explode, and then replace the placeholder back\n",
    "ONNX_bug_categories = (\n",
    "    df['Q65']\n",
    "    .str.replace('e.g.,', placeholder, regex=False)  # Temporarily replace 'e.g.,' with a placeholder\n",
    "    .str.split(',')  # Split on commas\n",
    "    .explode()  # Convert lists to rows\n",
    "    .str.strip()  # Strip whitespace\n",
    "    .str.replace(placeholder, 'e.g.,', regex=False)  # Replace the placeholder back to 'e.g.,'\n",
    "    .value_counts()  # Count occurrences\n",
    ")\n",
    "\n",
    "# Calculate the percentage of each category (int)\n",
    "ONNX_bug_categories_percentage = round(ONNX_bug_categories / Q65_sum * 100)\n",
    "\n",
    "# Combine ONNX_bug_categories and ONNX_bug_categories_percentage into a DataFrame\n",
    "ONNX_bug_summary = pd.DataFrame({'Count': ONNX_bug_categories, 'Percentage': ONNX_bug_categories_percentage})\n",
    "\n",
    "\n",
    "\n",
    "# Print     df['Q65_3_TEXT'] value which is not null\n",
    "print(f\"Number of non-null values in column Q65_3_TEXT: {df['Q65_3_TEXT'].notnull().sum()}\")\n",
    "print(df['Q65_3_TEXT'].replace('n/a', pd.NA).dropna().unique())\n",
    "\n",
    "\n",
    "ONNX_bug_summary\n",
    "\n"
   ]
  },
  {
   "cell_type": "code",
   "execution_count": null,
   "metadata": {},
   "outputs": [],
   "source": [
    "# print out the first row in df.columns[21]\n",
    "print(f\"Column 21: {df[df.columns[21]].iloc[0]}\")"
   ]
  },
  {
   "cell_type": "code",
   "execution_count": null,
   "metadata": {},
   "outputs": [],
   "source": [
    "# Same analysis for Q63\n",
    "Q63_sum = df['Q63'].notnull().sum()\n",
    "print(f\"Total number of non-null values in column Q63: {Q63_sum}\")\n",
    "\n",
    "placeholder = \"eg\"\n",
    "\n",
    "usage_categories = (\n",
    "    df['Q63']\n",
    "    .str.replace('e.g.,', placeholder, regex=False)  # Temporarily replace 'e.g.,' with a placeholder\n",
    "    .str.split(',')  # Split on commas\n",
    "    .explode()  # Convert lists to rows\n",
    "    .str.strip()  # Strip whitespace\n",
    "    .value_counts()  # Count occurrences\n",
    ")\n",
    "\n",
    "usage_categories_percentage = round(usage_categories / Q63_sum * 100)\n",
    "\n",
    "usage_summary = pd.DataFrame({'Count': usage_categories, 'Percentage': usage_categories_percentage})\n",
    "\n",
    "usage_summary"
   ]
  }
 ],
 "metadata": {
  "kernelspec": {
   "display_name": "Python 3",
   "language": "python",
   "name": "python3"
  },
  "language_info": {
   "codemirror_mode": {
    "name": "ipython",
    "version": 3
   },
   "file_extension": ".py",
   "mimetype": "text/x-python",
   "name": "python",
   "nbconvert_exporter": "python",
   "pygments_lexer": "ipython3",
   "version": "3.10.8"
  }
 },
 "nbformat": 4,
 "nbformat_minor": 2
}
